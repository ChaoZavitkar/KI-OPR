{
 "cells": [
  {
   "cell_type": "code",
   "execution_count": 2,
   "metadata": {},
   "outputs": [
    {
     "name": "stdout",
     "output_type": "stream",
     "text": [
      "1\n",
      "2*x + 2*y + 4*z\n",
      "0.0\n",
      "2.0\n",
      "0.0\n"
     ]
    }
   ],
   "source": [
    "import pulp\n",
    "\n",
    "# Definovat proměnné\n",
    "x = pulp.LpVariable(\"x\", 0, None, pulp.LpInteger)\n",
    "y = pulp.LpVariable(\"y\", 0, None, pulp.LpInteger)\n",
    "z = pulp.LpVariable(\"z\", 0, None, pulp.LpInteger)\n",
    "\n",
    "# Definovat účelovou funkci\n",
    "obj = pulp.LpProblem(\"Zisk\", pulp.LpMaximize)\n",
    "obj.setObjective(2 * x + 2 * y + 4 * z)\n",
    "\n",
    "# Definovat omezení\n",
    "obj.addConstraint(2 * x + y + z <= 2)\n",
    "obj.addConstraint(3 * x + 4 * y + 2 * z >= 8)\n",
    "\n",
    "# Vyřešit problém\n",
    "obj.solve()\n",
    "\n",
    "# Vytisknout řešení\n",
    "print(obj.status)\n",
    "print(obj.objective)\n",
    "print(x.value())\n",
    "print(y.value())\n",
    "print(z.value())\n"
   ]
  },
  {
   "cell_type": "code",
   "execution_count": 3,
   "metadata": {},
   "outputs": [
    {
     "name": "stdout",
     "output_type": "stream",
     "text": [
      "-2\n",
      "2*x + y\n",
      "0.0\n",
      "0.0\n"
     ]
    }
   ],
   "source": [
    "import pulp\n",
    "\n",
    "x = pulp.LpVariable(\"x\", 0, None, pulp.LpInteger)\n",
    "y = pulp.LpVariable(\"y\", 0, None, pulp.LpInteger)\n",
    "\n",
    "problem = pulp.LpProblem(\"Problem\", pulp.LpMaximize)\n",
    "problem.setObjective(2 * x + y)\n",
    "\n",
    "problem.addConstraint(x - y <= 10)\n",
    "problem.addConstraint(2 * x - y <= 40)\n",
    "\n",
    "problem.solve()\n",
    "\n",
    "print(problem.status)\n",
    "print(problem.objective)\n",
    "print(x.value())\n",
    "print(y.value())\n"
   ]
  },
  {
   "cell_type": "code",
   "execution_count": 12,
   "metadata": {},
   "outputs": [
    {
     "name": "stdout",
     "output_type": "stream",
     "text": [
      "1\n",
      "10*x + 4*y + 5*z\n",
      "0.0\n",
      "0.0\n",
      "16.666667\n"
     ]
    }
   ],
   "source": [
    "import pulp\n",
    "\n",
    "x = pulp.LpVariable(\"x\", 0, None) #, pulp.LpInteger\n",
    "y = pulp.LpVariable(\"y\", 0, None)\n",
    "z = pulp.LpVariable(\"z\", 0, None)\n",
    "\n",
    "problem = pulp.LpProblem(\"Problem\", pulp.LpMinimize)\n",
    "problem.setObjective(10 * x + 4 * y + 5 * z)\n",
    "\n",
    "problem.addConstraint(5*x - 7*y + 3*z >= 50)\n",
    "\n",
    "problem.solve()\n",
    "\n",
    "print(problem.status)\n",
    "print(problem.objective)\n",
    "print(x.value())\n",
    "print(y.value())\n",
    "print(z.value())\n"
   ]
  },
  {
   "cell_type": "code",
   "execution_count": 18,
   "metadata": {},
   "outputs": [
    {
     "name": "stdout",
     "output_type": "stream",
     "text": [
      "1\n",
      "54.8\n",
      "5.2\n",
      "2.4\n",
      "0.0\n",
      "\n",
      "1\n",
      "54.8\n",
      "5.8\n",
      "-0.4\n",
      "0.0\n"
     ]
    }
   ],
   "source": [
    "import pulp\n",
    "\n",
    "x = pulp.LpVariable(\"x\", 0, None) #, pulp.LpInteger\n",
    "y = pulp.LpVariable(\"y\", 0, None)\n",
    "z = pulp.LpVariable(\"z\", 0, None)\n",
    "\n",
    "problem = pulp.LpProblem(\"Problem\", pulp.LpMaximize)\n",
    "problem.setObjective(5 * x + 12 * y + 4 * z)\n",
    "\n",
    "problem.addConstraint(1*x + 2*y + 1*z <= 10)\n",
    "problem.addConstraint(2*x - 1*y + 3*z == 8)\n",
    "\n",
    "problem.solve()\n",
    "\n",
    "print(problem.status)\n",
    "print(problem.objective.value())\n",
    "print(x.value())\n",
    "print(y.value())\n",
    "print(z.value())\n",
    "\n",
    "print(\"\")\n",
    "\n",
    "x = pulp.LpVariable(\"x\", 0, None) #, pulp.LpInteger\n",
    "y = pulp.LpVariable(\"y\", 0, None)\n",
    "\n",
    "problem = pulp.LpProblem(\"Problem\", pulp.LpMinimize)\n",
    "problem.setObjective(10 * x + 8 * y)\n",
    "\n",
    "problem.addConstraint(1*x + 2*y >= 5)\n",
    "problem.addConstraint(2*x - 1*y >= 12)\n",
    "problem.addConstraint(1*x + 3*y >= 4)\n",
    "\n",
    "problem.solve()\n",
    "\n",
    "print(problem.status)\n",
    "print(problem.objective.value())\n",
    "print(x.value())\n",
    "print(y.value())\n",
    "print(z.value())"
   ]
  },
  {
   "cell_type": "code",
   "execution_count": 20,
   "metadata": {},
   "outputs": [
    {
     "name": "stdout",
     "output_type": "stream",
     "text": [
      "-1\n",
      "62500000000000.0\n",
      "31250000000000.0\n",
      "31250000000000.0\n",
      "0.0\n",
      "\n",
      "-2\n",
      "0.0\n",
      "0.0\n",
      "0.0\n",
      "0.0\n"
     ]
    }
   ],
   "source": [
    "import pulp\n",
    "\n",
    "x = pulp.LpVariable(\"x\", 0, None) #, pulp.LpInteger\n",
    "y = pulp.LpVariable(\"y\", 0, None)\n",
    "\n",
    "problem = pulp.LpProblem(\"Problem\", pulp.LpMaximize)\n",
    "problem.setObjective(1 * x + 1 * y)\n",
    "\n",
    "problem.addConstraint(1*x - 1*y >= 1)\n",
    "problem.addConstraint(- 1*x + 1*y >= 1)\n",
    "\n",
    "problem.solve()\n",
    "\n",
    "print(problem.status)\n",
    "print(problem.objective.value())\n",
    "print(x.value())\n",
    "print(y.value())\n",
    "print(z.value())\n",
    "\n",
    "print(\"\")\n",
    "\n",
    "x = pulp.LpVariable(\"x\", None, 0) #, pulp.LpInteger\n",
    "y = pulp.LpVariable(\"y\", None, 0)\n",
    "\n",
    "problem = pulp.LpProblem(\"Problem\", pulp.LpMinimize)\n",
    "problem.setObjective(1 * x + 1 * y)\n",
    "\n",
    "problem.addConstraint(1*x - 1*y <= 1)\n",
    "problem.addConstraint(- 1*x + 1*y <= 1)\n",
    "\n",
    "problem.solve()\n",
    "\n",
    "print(problem.status)\n",
    "print(problem.objective.value())\n",
    "print(x.value())\n",
    "print(y.value())\n",
    "print(z.value())"
   ]
  },
  {
   "cell_type": "code",
   "execution_count": 21,
   "metadata": {},
   "outputs": [
    {
     "name": "stdout",
     "output_type": "stream",
     "text": [
      "1\n",
      "21.0\n",
      "3.0\n",
      "1.5\n"
     ]
    }
   ],
   "source": [
    "import pulp\n",
    "\n",
    "x = pulp.LpVariable(\"x\", 0, None) #, pulp.LpInteger\n",
    "y = pulp.LpVariable(\"y\", 0, None)\n",
    "\n",
    "problem = pulp.LpProblem(\"Problem\", pulp.LpMaximize)\n",
    "problem.setObjective(5 * x + 4 * y)\n",
    "\n",
    "problem.addConstraint(6*x + 4*y <= 24)\n",
    "problem.addConstraint(1*x + 2*y <= 6)\n",
    "\n",
    "problem.solve()\n",
    "\n",
    "print(problem.status)\n",
    "print(problem.objective.value())\n",
    "print(x.value())\n",
    "print(y.value())\n",
    "\n",
    "print(\"\")\n",
    "\n",
    "x = pulp.LpVariable(\"x\", None, 0) #, pulp.LpInteger\n",
    "y = pulp.LpVariable(\"y\", None, 0)\n",
    "\n",
    "problem = pulp.LpProblem(\"Problem\", pulp.LpMinimize)\n",
    "problem.setObjective(1 * x + 1 * y)\n",
    "\n",
    "problem.addConstraint(1*x - 1*y <= 5)\n",
    "problem.addConstraint(- 1*x + 1*y <= 4)\n",
    "\n",
    "problem.solve()\n",
    "\n",
    "print(problem.status)\n",
    "print(problem.objective.value())\n",
    "print(x.value())\n",
    "print(y.value())\n",
    "print(z.value())"
   ]
  }
 ],
 "metadata": {
  "kernelspec": {
   "display_name": "Python 3",
   "language": "python",
   "name": "python3"
  },
  "language_info": {
   "codemirror_mode": {
    "name": "ipython",
    "version": 3
   },
   "file_extension": ".py",
   "mimetype": "text/x-python",
   "name": "python",
   "nbconvert_exporter": "python",
   "pygments_lexer": "ipython3",
   "version": "3.10.11"
  }
 },
 "nbformat": 4,
 "nbformat_minor": 2
}
