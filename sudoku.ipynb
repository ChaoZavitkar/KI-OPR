{
 "cells": [
  {
   "cell_type": "code",
   "execution_count": 41,
   "metadata": {},
   "outputs": [],
   "source": [
    "import pulp as plp\n",
    "prob = plp.LpProblem(\"Sudoku_Solver\")"
   ]
  },
  {
   "cell_type": "code",
   "execution_count": 42,
   "metadata": {},
   "outputs": [],
   "source": [
    "def add_sudoku_constraints(prob, grid_vars, rows, cols, grids, values):\n",
    "    \n",
    "    # Constraint to ensure only one value is filled for a cell\n",
    "    for row in rows:\n",
    "        for col in cols:\n",
    "                prob.addConstraint(plp.LpConstraint(e=plp.lpSum([grid_vars[row][col][value] for value in values]),\n",
    "                                        sense=plp.LpConstraintEQ, rhs=1, name=f\"constraint_sum_{row}_{col}\"))\n",
    "\n",
    "\n",
    "    # Constraint to ensure that values from 1 to 9 is filled only once in a row        \n",
    "    for row in rows:\n",
    "        for value in values:\n",
    "            prob.addConstraint(plp.LpConstraint(e=plp.lpSum([grid_vars[row][col][value]*value  for col in cols]),\n",
    "                                        sense=plp.LpConstraintEQ, rhs=value, name=f\"constraint_uniq_row_{row}_{value}\"))\n",
    "\n",
    "    # Constraint to ensure that values from 1 to 9 is filled only once in a column        \n",
    "    for col in cols:\n",
    "        for value in values:\n",
    "            prob.addConstraint(plp.LpConstraint(e=plp.lpSum([grid_vars[row][col][value]*value  for row in rows]),\n",
    "                                        sense=plp.LpConstraintEQ, rhs=value, name=f\"constraint_uniq_col_{col}_{value}\"))\n",
    "\n",
    "\n",
    "    # Constraint to ensure that values from 1 to 9 is filled only once in the 3x3 grid       \n",
    "    for grid in grids:\n",
    "        grid_row  = int(grid/3)\n",
    "        grid_col  = int(grid%3)\n",
    "\n",
    "        for value in values:\n",
    "            prob.addConstraint(plp.LpConstraint(e=plp.lpSum([grid_vars[grid_row*3+row][grid_col*3+col][value]*value  for col in range(0,3) for row in range(0,3)]),\n",
    "                                        sense=plp.LpConstraintEQ, rhs=value, name=f\"constraint_uniq_grid_{grid}_{value}\"))"
   ]
  },
  {
   "cell_type": "code",
   "execution_count": 43,
   "metadata": {},
   "outputs": [],
   "source": [
    "def add_prefilled_constraints(prob, input_sudoku, grid_vars, rows, cols, values):\n",
    "    for row in rows:\n",
    "        for col in cols:\n",
    "            if(input_sudoku[row][col] != 0):\n",
    "                prob.addConstraint(plp.LpConstraint(e=plp.lpSum([grid_vars[row][col][value]*value  for value in values]), \n",
    "                                                    sense=plp.LpConstraintEQ, \n",
    "                                                    rhs=input_sudoku[row][col],\n",
    "                                                    name=f\"constraint_prefilled_{row}_{col}\"))"
   ]
  },
  {
   "cell_type": "code",
   "execution_count": 44,
   "metadata": {},
   "outputs": [],
   "source": [
    "def extract_solution(grid_vars, rows, cols, values):\n",
    "    solution = [[0 for col in cols] for row in rows]\n",
    "    grid_list = []\n",
    "    for row in rows:\n",
    "        for col in cols:\n",
    "            for value in values:\n",
    "                if plp.value(grid_vars[row][col][value]):\n",
    "                    solution[row][col] = value \n",
    "    return solution"
   ]
  },
  {
   "cell_type": "code",
   "execution_count": 45,
   "metadata": {},
   "outputs": [],
   "source": [
    "def print_solution(solution, rows,cols):\n",
    "    # Print the final result\n",
    "    print(f\"\\nFinal result:\")\n",
    "\n",
    "    print(\"\\n\\n+ ----------- + ----------- + ----------- +\",end=\"\")\n",
    "    for row in rows:\n",
    "        print(\"\\n\",end=\"\\n|  \")\n",
    "        for col in cols:\n",
    "            num_end = \"  |  \" if ((col+1)%3 == 0) else \"   \"\n",
    "            print(solution[row][col],end=num_end)\n",
    "\n",
    "        if ((row+1)%3 == 0):\n",
    "            print(\"\\n\\n+ ----------- + ----------- + ----------- +\",end=\"\")"
   ]
  },
  {
   "cell_type": "code",
   "execution_count": 46,
   "metadata": {},
   "outputs": [],
   "source": [
    "def solve_sudoku(input_sudoku):\n",
    "    # Create the linear programming problem\n",
    "    prob = plp.LpProblem(\"Sudoku_Solver\")\n",
    "\n",
    "    rows = range(0,9)\n",
    "    cols = range(0,9)\n",
    "    grids = range(0,9)\n",
    "    values = range(1,10)\n",
    "\n",
    "    # Decision Variable/Target variable\n",
    "    grid_vars = plp.LpVariable.dicts(\"grid_value\", (rows,cols,values), cat='Binary') \n",
    "\n",
    "    objective = plp.lpSum(0)\n",
    "    prob.setObjective(objective)\n",
    "\n",
    "    # Create the default constraints to solve sudoku\n",
    "    add_sudoku_constraints(prob, grid_vars, rows, cols, grids, values)\n",
    "        \n",
    "    # Fill the prefilled values from input sudoku as constraints\n",
    "    add_prefilled_constraints(prob, input_sudoku, grid_vars, rows, cols, values)\n",
    "\n",
    "\n",
    "    # Solve the problem\n",
    "    prob.solve()\n",
    "\n",
    "    # Print the status of the solution\n",
    "    solution_status = plp.LpStatus[prob.status]\n",
    "    print(f'Solution Status = {plp.LpStatus[prob.status]}')\n",
    "\n",
    "    # Extract the solution if an optimal solution has been identified\n",
    "    if solution_status == 'Optimal':\n",
    "        solution = extract_solution(grid_vars, rows, cols, values)\n",
    "        print_solution(solution, rows,cols)\n"
   ]
  },
  {
   "cell_type": "code",
   "execution_count": 47,
   "metadata": {},
   "outputs": [
    {
     "name": "stdout",
     "output_type": "stream",
     "text": [
      "Solution Status = Optimal\n",
      "\n",
      "Final result:\n",
      "\n",
      "\n",
      "+ ----------- + ----------- + ----------- +\n",
      "\n",
      "|  5   3   4  |  6   7   8  |  9   1   2  |  \n",
      "\n",
      "|  6   7   2  |  1   9   5  |  3   4   8  |  \n",
      "\n",
      "|  1   9   8  |  3   4   2  |  5   6   7  |  \n",
      "\n",
      "+ ----------- + ----------- + ----------- +\n",
      "\n",
      "|  8   5   9  |  7   6   1  |  4   2   3  |  \n",
      "\n",
      "|  4   2   6  |  8   5   3  |  7   9   1  |  \n",
      "\n",
      "|  7   1   3  |  9   2   4  |  8   5   6  |  \n",
      "\n",
      "+ ----------- + ----------- + ----------- +\n",
      "\n",
      "|  9   6   1  |  5   3   7  |  2   8   4  |  \n",
      "\n",
      "|  2   8   7  |  4   1   9  |  6   3   5  |  \n",
      "\n",
      "|  3   4   5  |  2   8   6  |  1   7   9  |  \n",
      "\n",
      "+ ----------- + ----------- + ----------- +"
     ]
    }
   ],
   "source": [
    "normal_sudoku = [\n",
    "                    [5,3,0,0,7,0,0,0,0],\n",
    "                    [6,0,0,1,9,5,0,0,0],\n",
    "                    [0,9,8,0,0,0,0,6,0],\n",
    "\n",
    "                    [8,0,0,0,6,0,0,0,3],\n",
    "                    [4,0,0,8,0,3,0,0,1],\n",
    "                    [7,0,0,0,2,0,0,0,6],\n",
    "\n",
    "                    [0,6,0,0,0,0,2,8,0],\n",
    "                    [0,0,0,4,1,9,0,0,5],\n",
    "                    [0,0,0,0,8,0,0,7,9]\n",
    "                ]\n",
    "\n",
    "\n",
    "solve_sudoku(input_sudoku=normal_sudoku)"
   ]
  }
 ],
 "metadata": {
  "kernelspec": {
   "display_name": "Python 3",
   "language": "python",
   "name": "python3"
  },
  "language_info": {
   "codemirror_mode": {
    "name": "ipython",
    "version": 3
   },
   "file_extension": ".py",
   "mimetype": "text/x-python",
   "name": "python",
   "nbconvert_exporter": "python",
   "pygments_lexer": "ipython3",
   "version": "3.10.11"
  }
 },
 "nbformat": 4,
 "nbformat_minor": 2
}
