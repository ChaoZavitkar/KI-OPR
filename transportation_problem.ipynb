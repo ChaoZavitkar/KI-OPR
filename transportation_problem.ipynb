{
 "cells": [
  {
   "cell_type": "code",
   "execution_count": 1,
   "metadata": {},
   "outputs": [],
   "source": [
    "import pulp"
   ]
  },
  {
   "cell_type": "code",
   "execution_count": 3,
   "metadata": {},
   "outputs": [
    {
     "name": "stdout",
     "output_type": "stream",
     "text": [
      "Status: Optimal\n",
      "Optimal value for x1: 0.0\n",
      "Optimal value for x2: 300.0\n",
      "Optimal value for x3: 0.0\n",
      "Optimal value for x4: 150.0\n",
      "Optimal value for x5: 150.0\n",
      "Optimal value for x6: 300.0\n",
      "Optimal value for x7: 0.0\n",
      "Optimal value for x8: 0.0\n",
      "Optimal value for x9: 600.0\n",
      "Optimal Objective Function Value: 4800.0\n"
     ]
    }
   ],
   "source": [
    "lp_problem = pulp.LpProblem(\"Multi_Variable_Problem\", pulp.LpMinimize)\n",
    "\n",
    "x1 = pulp.LpVariable('x1', lowBound=0)\n",
    "x2 = pulp.LpVariable('x2', lowBound=0)\n",
    "x3 = pulp.LpVariable('x3', lowBound=0)\n",
    "x4 = pulp.LpVariable('x4', lowBound=0)\n",
    "x5 = pulp.LpVariable('x5', lowBound=0)\n",
    "x6 = pulp.LpVariable('x6', lowBound=0)\n",
    "x7 = pulp.LpVariable('x7', lowBound=0)\n",
    "x8 = pulp.LpVariable('x8', lowBound=0)\n",
    "x9 = pulp.LpVariable('x9', lowBound=0)\n",
    "\n",
    "lp_problem += 5 * x1 + 1 * x2 + 9 * x3 + 4 * x4 + 2 * x5 + 8 * x6 + 8 * x7 + 7 * x8 + 2 * x9\n",
    "\n",
    "lp_problem += x1 + x2 + x3 <= 300\n",
    "lp_problem += x4 + x5 + x6 <= 600\n",
    "lp_problem += x7 + x8 + x9 <= 600\n",
    "lp_problem += x1 + x4 + x7 >= 150\n",
    "lp_problem += x2 + x5 + x8 >= 450\n",
    "lp_problem += x3 + x6 + x9 >= 900\n",
    "\n",
    "lp_problem.solve()\n",
    "\n",
    "print(\"Status:\", pulp.LpStatus[lp_problem.status])\n",
    "\n",
    "for var in [x1, x2, x3, x4, x5, x6, x7, x8, x9]:\n",
    "    print(f\"Optimal value for {var.name}: {pulp.value(var)}\")\n",
    "\n",
    "print(f\"Optimal Objective Function Value: {pulp.value(lp_problem.objective)}\")\n"
   ]
  }
 ],
 "metadata": {
  "kernelspec": {
   "display_name": "Python 3",
   "language": "python",
   "name": "python3"
  },
  "language_info": {
   "codemirror_mode": {
    "name": "ipython",
    "version": 3
   },
   "file_extension": ".py",
   "mimetype": "text/x-python",
   "name": "python",
   "nbconvert_exporter": "python",
   "pygments_lexer": "ipython3",
   "version": "3.10.11"
  }
 },
 "nbformat": 4,
 "nbformat_minor": 2
}
